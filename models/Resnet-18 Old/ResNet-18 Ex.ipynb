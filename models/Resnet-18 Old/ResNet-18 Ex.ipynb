{
 "cells": [
  {
   "cell_type": "markdown",
   "metadata": {
    "papermill": {
     "duration": 0.011724,
     "end_time": "2021-01-28T17:02:50.939637",
     "exception": false,
     "start_time": "2021-01-28T17:02:50.927913",
     "status": "completed"
    },
    "tags": []
   },
   "source": [
    "# Implementing ResNet-18 Using Keras"
   ]
  },
  {
   "cell_type": "markdown",
   "metadata": {
    "papermill": {
     "duration": 0.010555,
     "end_time": "2021-01-28T17:02:50.961033",
     "exception": false,
     "start_time": "2021-01-28T17:02:50.950478",
     "status": "completed"
    },
    "tags": []
   },
   "source": [
    "In this note book I will try to implement ResNet-18 using Keras and compare my implementation with the standard implementation provided in keras.application"
   ]
  },
  {
   "cell_type": "markdown",
   "metadata": {
    "papermill": {
     "duration": 0.010293,
     "end_time": "2021-01-28T17:02:50.982037",
     "exception": false,
     "start_time": "2021-01-28T17:02:50.971744",
     "status": "completed"
    },
    "tags": []
   },
   "source": [
    "## preprocess"
   ]
  },
  {
   "cell_type": "code",
   "execution_count": 1,
   "metadata": {
    "_cell_guid": "b1076dfc-b9ad-4769-8c92-a6c4dae69d19",
    "_uuid": "8f2839f25d086af736a60e9eeb907d3b93b6e0e5",
    "execution": {
     "iopub.execute_input": "2021-01-28T17:02:51.008550Z",
     "iopub.status.busy": "2021-01-28T17:02:51.007824Z",
     "iopub.status.idle": "2021-01-28T17:02:56.073464Z",
     "shell.execute_reply": "2021-01-28T17:02:56.072970Z"
    },
    "papermill": {
     "duration": 5.081049,
     "end_time": "2021-01-28T17:02:56.073630",
     "exception": false,
     "start_time": "2021-01-28T17:02:50.992581",
     "status": "completed"
    },
    "tags": []
   },
   "outputs": [
    {
     "name": "stderr",
     "output_type": "stream",
     "text": [
      "2024-03-10 21:33:04.240645: E external/local_xla/xla/stream_executor/cuda/cuda_dnn.cc:9261] Unable to register cuDNN factory: Attempting to register factory for plugin cuDNN when one has already been registered\n",
      "2024-03-10 21:33:04.240684: E external/local_xla/xla/stream_executor/cuda/cuda_fft.cc:607] Unable to register cuFFT factory: Attempting to register factory for plugin cuFFT when one has already been registered\n",
      "2024-03-10 21:33:04.241560: E external/local_xla/xla/stream_executor/cuda/cuda_blas.cc:1515] Unable to register cuBLAS factory: Attempting to register factory for plugin cuBLAS when one has already been registered\n",
      "2024-03-10 21:33:04.246973: I tensorflow/core/platform/cpu_feature_guard.cc:182] This TensorFlow binary is optimized to use available CPU instructions in performance-critical operations.\n",
      "To enable the following instructions: AVX2 FMA, in other operations, rebuild TensorFlow with the appropriate compiler flags.\n",
      "2024-03-10 21:33:04.948088: W tensorflow/compiler/tf2tensorrt/utils/py_utils.cc:38] TF-TRT Warning: Could not find TensorRT\n",
      "/home/kayaba_attribution/miniconda3/envs/tf/lib/python3.9/site-packages/deeplake/util/check_latest_version.py:32: UserWarning: A newer version of deeplake (3.8.23) is available. It's recommended that you update to the latest version using `pip install -U deeplake`.\n",
      "  warnings.warn(\n",
      "2024-03-10 21:33:06.012761: I external/local_xla/xla/stream_executor/cuda/cuda_executor.cc:901] successful NUMA node read from SysFS had negative value (-1), but there must be at least one NUMA node, so returning NUMA node zero. See more at https://github.com/torvalds/linux/blob/v6.0/Documentation/ABI/testing/sysfs-bus-pci#L344-L355\n",
      "2024-03-10 21:33:06.040248: I external/local_xla/xla/stream_executor/cuda/cuda_executor.cc:901] successful NUMA node read from SysFS had negative value (-1), but there must be at least one NUMA node, so returning NUMA node zero. See more at https://github.com/torvalds/linux/blob/v6.0/Documentation/ABI/testing/sysfs-bus-pci#L344-L355\n",
      "2024-03-10 21:33:06.040456: I external/local_xla/xla/stream_executor/cuda/cuda_executor.cc:901] successful NUMA node read from SysFS had negative value (-1), but there must be at least one NUMA node, so returning NUMA node zero. See more at https://github.com/torvalds/linux/blob/v6.0/Documentation/ABI/testing/sysfs-bus-pci#L344-L355\n"
     ]
    },
    {
     "name": "stdout",
     "output_type": "stream",
     "text": [
      "All requiremetns met. Using TF with GPU: NVIDIA GeForce GTX 1660 (1x)\n",
      "INFO:tensorflow:Mixed precision compatibility check (mixed_float16): OK\n",
      "Your GPU will likely run quickly with dtype policy mixed_float16 as it has compute capability of at least 7.0. Your GPU: NVIDIA GeForce GTX 1660, compute capability 7.5\n"
     ]
    },
    {
     "name": "stderr",
     "output_type": "stream",
     "text": [
      "2024-03-10 21:33:06.135756: I external/local_xla/xla/stream_executor/cuda/cuda_executor.cc:901] successful NUMA node read from SysFS had negative value (-1), but there must be at least one NUMA node, so returning NUMA node zero. See more at https://github.com/torvalds/linux/blob/v6.0/Documentation/ABI/testing/sysfs-bus-pci#L344-L355\n"
     ]
    },
    {
     "name": "stdout",
     "output_type": "stream",
     "text": [
      "\n",
      "Train size: X: 61540, y: 61540 | Validation size: X: 15385, y: 15385 | Test size: X: 35195, y: 35195 | \n",
      "Total size: X: 112120\n"
     ]
    },
    {
     "name": "stderr",
     "output_type": "stream",
     "text": [
      "2024-03-10 21:33:06.449621: I external/local_xla/xla/stream_executor/cuda/cuda_executor.cc:901] successful NUMA node read from SysFS had negative value (-1), but there must be at least one NUMA node, so returning NUMA node zero. See more at https://github.com/torvalds/linux/blob/v6.0/Documentation/ABI/testing/sysfs-bus-pci#L344-L355\n",
      "2024-03-10 21:33:06.449876: I external/local_xla/xla/stream_executor/cuda/cuda_executor.cc:901] successful NUMA node read from SysFS had negative value (-1), but there must be at least one NUMA node, so returning NUMA node zero. See more at https://github.com/torvalds/linux/blob/v6.0/Documentation/ABI/testing/sysfs-bus-pci#L344-L355\n",
      "2024-03-10 21:33:06.450076: I external/local_xla/xla/stream_executor/cuda/cuda_executor.cc:901] successful NUMA node read from SysFS had negative value (-1), but there must be at least one NUMA node, so returning NUMA node zero. See more at https://github.com/torvalds/linux/blob/v6.0/Documentation/ABI/testing/sysfs-bus-pci#L344-L355\n",
      "2024-03-10 21:33:06.527975: I external/local_xla/xla/stream_executor/cuda/cuda_executor.cc:901] successful NUMA node read from SysFS had negative value (-1), but there must be at least one NUMA node, so returning NUMA node zero. See more at https://github.com/torvalds/linux/blob/v6.0/Documentation/ABI/testing/sysfs-bus-pci#L344-L355\n",
      "2024-03-10 21:33:06.528167: I external/local_xla/xla/stream_executor/cuda/cuda_executor.cc:901] successful NUMA node read from SysFS had negative value (-1), but there must be at least one NUMA node, so returning NUMA node zero. See more at https://github.com/torvalds/linux/blob/v6.0/Documentation/ABI/testing/sysfs-bus-pci#L344-L355\n",
      "2024-03-10 21:33:06.528279: I tensorflow/core/common_runtime/gpu/gpu_process_state.cc:236] Using CUDA malloc Async allocator for GPU: 0\n",
      "2024-03-10 21:33:06.528374: I external/local_xla/xla/stream_executor/cuda/cuda_executor.cc:901] successful NUMA node read from SysFS had negative value (-1), but there must be at least one NUMA node, so returning NUMA node zero. See more at https://github.com/torvalds/linux/blob/v6.0/Documentation/ABI/testing/sysfs-bus-pci#L344-L355\n",
      "2024-03-10 21:33:06.528490: I tensorflow/core/common_runtime/gpu/gpu_device.cc:1929] Created device /job:localhost/replica:0/task:0/device:GPU:0 with 3221 MB memory:  -> device: 0, name: NVIDIA GeForce GTX 1660, pci bus id: 0000:0a:00.0, compute capability: 7.5\n"
     ]
    },
    {
     "ename": "ModuleNotFoundError",
     "evalue": "No module named 'report'",
     "output_type": "error",
     "traceback": [
      "\u001b[0;31m---------------------------------------------------------------------------\u001b[0m",
      "\u001b[0;31mModuleNotFoundError\u001b[0m                       Traceback (most recent call last)",
      "Cell \u001b[0;32mIn[1], line 58\u001b[0m\n\u001b[1;32m     55\u001b[0m sys\u001b[38;5;241m.\u001b[39mpath\u001b[38;5;241m.\u001b[39mappend(os\u001b[38;5;241m.\u001b[39mpath\u001b[38;5;241m.\u001b[39mdirname(os\u001b[38;5;241m.\u001b[39mgetcwd()))\n\u001b[1;32m     57\u001b[0m \u001b[38;5;28;01mfrom\u001b[39;00m \u001b[38;5;21;01mdataset\u001b[39;00m \u001b[38;5;28;01mimport\u001b[39;00m train_ds, val_ds, test_ds, y_test, y_val, ALL_LABELS, IMG_SIZE\n\u001b[0;32m---> 58\u001b[0m \u001b[38;5;28;01mfrom\u001b[39;00m \u001b[38;5;21;01mreport\u001b[39;00m \u001b[38;5;28;01mimport\u001b[39;00m generate_report\n\u001b[1;32m     60\u001b[0m MODEL_NAME \u001b[38;5;241m=\u001b[39m \u001b[38;5;124m'\u001b[39m\u001b[38;5;124mResNet18\u001b[39m\u001b[38;5;124m'\u001b[39m\n\u001b[1;32m     62\u001b[0m req_xray_data\n",
      "\u001b[0;31mModuleNotFoundError\u001b[0m: No module named 'report'"
     ]
    }
   ],
   "source": [
    "\n",
    "import os\n",
    "import sys\n",
    "import sklearn\n",
    "import pip\n",
    "import numpy as np\n",
    "import pandas as pd\n",
    "import tensorflow as tf\n",
    "import matplotlib.pyplot as plt\n",
    "import seaborn as sns\n",
    "import deeplake\n",
    "from time import time\n",
    "from PIL import Image\n",
    "\n",
    "\n",
    "from pathlib import Path\n",
    "# set figure size\n",
    "plt.rcParams['figure.figsize'] = [14, 14]\n",
    "plt.rc('font', size=14)\n",
    "plt.rc('axes', labelsize=14, titlesize=14)\n",
    "plt.rc('legend', fontsize=14)\n",
    "plt.rc('xtick', labelsize=10)\n",
    "plt.rc('ytick', labelsize=10)\n",
    "\n",
    "# Requirements taken from https://www.tensorflow.org/install/pip#linux\n",
    "python_version = sys.version\n",
    "pip_version = pip.__version__\n",
    "nvidia_smi_version = os.popen('nvidia-smi --query-gpu=driver_version --format=csv,noheader').read().strip()\n",
    "cuda_version = os.popen('nvcc --version').read().split('\\n')[3].split(',')[1].strip()\n",
    "tensorflow_version = tf.__version__\n",
    "physical_devices = tf.config.list_physical_devices('GPU')\n",
    "num_gpus = len(physical_devices)\n",
    "gpu_model = os.popen('nvidia-smi --query-gpu=name --format=csv,noheader').read().strip()\n",
    "\n",
    "req_xray_data = pd.DataFrame({\n",
    "    'Package': ['Python', 'pip', 'nvidia-smi', 'cuda', 'tensorflow', 'GPUs'],\n",
    "    'Required': ['3.7', '20.2', '450.51.06', '11.0', '2.3.0', '1'],\n",
    "    'Installed': [python_version, pip_version, nvidia_smi_version, cuda_version, tensorflow_version, num_gpus]\n",
    "})\n",
    "               \n",
    "print(f'All requiremetns met. Using TF with GPU: {gpu_model} ({num_gpus}x)')\n",
    "\n",
    "pd.options.plotting.backend = \"plotly\"\n",
    "os.environ[\"TF_GPU_ALLOCATOR\"]=\"cuda_malloc_async\"\n",
    "\n",
    "from keras.models import Model, Sequential\n",
    "from keras.layers import Lambda, Input, GlobalAveragePooling2D, Dense, Dropout, Flatten, Conv2D, MaxPooling2D, BatchNormalization, Activation\n",
    "from keras.utils import plot_model\n",
    "from keras.callbacks import ModelCheckpoint, LearningRateScheduler, EarlyStopping, ReduceLROnPlateau\n",
    "import keras\n",
    "from sklearn.metrics import classification_report, accuracy_score\n",
    "\n",
    "import sys\n",
    "\n",
    "sys.path.append('/home/kayaba_attribution/Documents/UoL/FINAL_PROJECT/Code/nih-chest')\n",
    "sys.path.append(os.path.dirname(os.getcwd()))\n",
    "\n",
    "from dataset import train_ds, val_ds, test_ds, y_test, y_val, ALL_LABELS, IMG_SIZE\n",
    "from reportUtils import generate_report\n",
    "\n",
    "MODEL_NAME = 'ResNet18'\n",
    "\n",
    "req_xray_data\n"
   ]
  },
  {
   "cell_type": "markdown",
   "metadata": {
    "papermill": {
     "duration": 0.039002,
     "end_time": "2021-01-28T17:03:06.177205",
     "exception": false,
     "start_time": "2021-01-28T17:03:06.138203",
     "status": "completed"
    },
    "tags": []
   },
   "source": [
    "# Implement ResNet-18 model"
   ]
  },
  {
   "cell_type": "markdown",
   "metadata": {
    "papermill": {
     "duration": 0.03934,
     "end_time": "2021-01-28T17:03:06.255912",
     "exception": false,
     "start_time": "2021-01-28T17:03:06.216572",
     "status": "completed"
    },
    "tags": []
   },
   "source": [
    "Codes below are taken from my [Github](https://github.com/songrise/CNN_Keras)"
   ]
  },
  {
   "cell_type": "code",
   "execution_count": 4,
   "metadata": {
    "execution": {
     "iopub.execute_input": "2021-01-28T17:03:06.363704Z",
     "iopub.status.busy": "2021-01-28T17:03:06.362755Z",
     "iopub.status.idle": "2021-01-28T17:03:06.365000Z",
     "shell.execute_reply": "2021-01-28T17:03:06.365542Z"
    },
    "papermill": {
     "duration": 0.070069,
     "end_time": "2021-01-28T17:03:06.365686",
     "exception": false,
     "start_time": "2021-01-28T17:03:06.295617",
     "status": "completed"
    },
    "tags": []
   },
   "outputs": [],
   "source": [
    "\"\"\"\n",
    "ResNet-18\n",
    "Reference:\n",
    "[1] K. He et al. Deep Residual Learning for Image Recognition. CVPR, 2016\n",
    "[2] K. He, X. Zhang, S. Ren, and J. Sun. Delving deep into rectifiers:\n",
    "Surpassing human-level performance on imagenet classification. In\n",
    "ICCV, 2015.\n",
    "\"\"\"\n",
    "\n",
    "from keras.callbacks import EarlyStopping\n",
    "from keras.layers import Dense, Conv2D,  MaxPool2D, Flatten, GlobalAveragePooling2D,  BatchNormalization, Layer, Add\n",
    "from keras.models import Sequential\n",
    "from keras.models import Model\n",
    "import tensorflow as tf\n",
    "\n",
    "class ResnetBlock(Model):\n",
    "    \"\"\"\n",
    "    A standard resnet block.\n",
    "    \"\"\"\n",
    "\n",
    "    def __init__(self, channels: int, down_sample=False):\n",
    "        \"\"\"\n",
    "        channels: same as number of convolution kernels\n",
    "        \"\"\"\n",
    "        super().__init__()\n",
    "\n",
    "        self.__channels = channels\n",
    "        self.__down_sample = down_sample\n",
    "        self.__strides = [2, 1] if down_sample else [1, 1]\n",
    "\n",
    "        KERNEL_SIZE = (3, 3)\n",
    "        # use He initialization, instead of Xavier (a.k.a 'glorot_uniform' in Keras), as suggested in [2]\n",
    "        INIT_SCHEME = \"he_normal\"\n",
    "\n",
    "        self.conv_1 = Conv2D(self.__channels, strides=self.__strides[0],\n",
    "                             kernel_size=KERNEL_SIZE, padding=\"same\", kernel_initializer=INIT_SCHEME)\n",
    "        self.bn_1 = BatchNormalization()\n",
    "        self.conv_2 = Conv2D(self.__channels, strides=self.__strides[1],\n",
    "                             kernel_size=KERNEL_SIZE, padding=\"same\", kernel_initializer=INIT_SCHEME)\n",
    "        self.bn_2 = BatchNormalization()\n",
    "        self.merge = Add()\n",
    "\n",
    "        if self.__down_sample:\n",
    "            # perform down sampling using stride of 2, according to [1].\n",
    "            self.res_conv = Conv2D(\n",
    "                self.__channels, strides=2, kernel_size=(1, 1), kernel_initializer=INIT_SCHEME, padding=\"same\")\n",
    "            self.res_bn = BatchNormalization()\n",
    "\n",
    "    def call(self, inputs):\n",
    "        res = inputs\n",
    "\n",
    "        x = self.conv_1(inputs)\n",
    "        x = self.bn_1(x)\n",
    "        x = tf.nn.relu(x)\n",
    "        x = self.conv_2(x)\n",
    "        x = self.bn_2(x)\n",
    "\n",
    "        if self.__down_sample:\n",
    "            res = self.res_conv(res)\n",
    "            res = self.res_bn(res)\n",
    "\n",
    "        # if not perform down sample, then add a shortcut directly\n",
    "        x = self.merge([x, res])\n",
    "        out = tf.nn.relu(x)\n",
    "        return out\n",
    "\n",
    "\n",
    "class ResNet18(Model):\n",
    "\n",
    "    def __init__(self, num_classes, **kwargs):\n",
    "        \"\"\"\n",
    "            num_classes: number of classes in specific classification task.\n",
    "        \"\"\"\n",
    "        super().__init__(**kwargs)\n",
    "        self.conv_1 = Conv2D(64, (7, 7), strides=2,\n",
    "                             padding=\"same\", kernel_initializer=\"he_normal\")\n",
    "        self.init_bn = BatchNormalization()\n",
    "        self.pool_2 = MaxPool2D(pool_size=(2, 2), strides=2, padding=\"same\")\n",
    "        self.res_1_1 = ResnetBlock(64)\n",
    "        self.res_1_2 = ResnetBlock(64)\n",
    "        self.res_2_1 = ResnetBlock(128, down_sample=True)\n",
    "        self.res_2_2 = ResnetBlock(128)\n",
    "        self.res_3_1 = ResnetBlock(256, down_sample=True)\n",
    "        self.res_3_2 = ResnetBlock(256)\n",
    "        self.res_4_1 = ResnetBlock(512, down_sample=True)\n",
    "        self.res_4_2 = ResnetBlock(512)\n",
    "        self.avg_pool = GlobalAveragePooling2D()\n",
    "        self.flat = Flatten()\n",
    "        self.fc = Dense(num_classes, activation=\"softmax\")\n",
    "\n",
    "    def call(self, inputs):\n",
    "        out = self.conv_1(inputs)\n",
    "        out = self.init_bn(out)\n",
    "        out = tf.nn.relu(out)\n",
    "        out = self.pool_2(out)\n",
    "        for res_block in [self.res_1_1, self.res_1_2, self.res_2_1, self.res_2_2, self.res_3_1, self.res_3_2, self.res_4_1, self.res_4_2]:\n",
    "            out = res_block(out)\n",
    "        out = self.avg_pool(out)\n",
    "        out = self.flat(out)\n",
    "        out = self.fc(out)\n",
    "        return out\n",
    "\n"
   ]
  },
  {
   "cell_type": "code",
   "execution_count": 7,
   "metadata": {
    "execution": {
     "iopub.execute_input": "2021-01-28T17:03:06.458854Z",
     "iopub.status.busy": "2021-01-28T17:03:06.458257Z",
     "iopub.status.idle": "2021-01-28T17:03:09.469155Z",
     "shell.execute_reply": "2021-01-28T17:03:09.468649Z"
    },
    "papermill": {
     "duration": 3.062046,
     "end_time": "2021-01-28T17:03:09.469282",
     "exception": false,
     "start_time": "2021-01-28T17:03:06.407236",
     "status": "completed"
    },
    "tags": []
   },
   "outputs": [
    {
     "name": "stdout",
     "output_type": "stream",
     "text": [
      "Model: \"res_net18_1\"\n",
      "_________________________________________________________________\n",
      " Layer (type)                Output Shape              Param #   \n",
      "=================================================================\n",
      " conv2d_20 (Conv2D)          multiple                  9472      \n",
      "                                                                 \n",
      " batch_normalization_20 (Ba  multiple                  256       \n",
      " tchNormalization)                                               \n",
      "                                                                 \n",
      " max_pooling2d_1 (MaxPoolin  multiple                  0         \n",
      " g2D)                                                            \n",
      "                                                                 \n",
      " resnet_block_8 (ResnetBloc  multiple                  74368     \n",
      " k)                                                              \n",
      "                                                                 \n",
      " resnet_block_9 (ResnetBloc  multiple                  74368     \n",
      " k)                                                              \n",
      "                                                                 \n",
      " resnet_block_10 (ResnetBlo  multiple                  231296    \n",
      " ck)                                                             \n",
      "                                                                 \n",
      " resnet_block_11 (ResnetBlo  multiple                  296192    \n",
      " ck)                                                             \n",
      "                                                                 \n",
      " resnet_block_12 (ResnetBlo  multiple                  921344    \n",
      " ck)                                                             \n",
      "                                                                 \n",
      " resnet_block_13 (ResnetBlo  multiple                  1182208   \n",
      " ck)                                                             \n",
      "                                                                 \n",
      " resnet_block_14 (ResnetBlo  multiple                  3677696   \n",
      " ck)                                                             \n",
      "                                                                 \n",
      " resnet_block_15 (ResnetBlo  multiple                  4723712   \n",
      " ck)                                                             \n",
      "                                                                 \n",
      " global_average_pooling2d_1  multiple                  0         \n",
      "  (GlobalAveragePooling2D)                                       \n",
      "                                                                 \n",
      " flatten_1 (Flatten)         multiple                  0         \n",
      "                                                                 \n",
      " dense_1 (Dense)             multiple                  7695      \n",
      "                                                                 \n",
      "=================================================================\n",
      "Total params: 11198607 (42.72 MB)\n",
      "Trainable params: 11189007 (42.68 MB)\n",
      "Non-trainable params: 9600 (37.50 KB)\n",
      "_________________________________________________________________\n"
     ]
    }
   ],
   "source": [
    "model = ResNet18(15)\n",
    "\n",
    "model.build(input_shape = (None,IMG_SIZE,IMG_SIZE,3))\n",
    "\n",
    "plot_model(model, f\"{MODEL_NAME}_model.png\", show_shapes=True, show_layer_names=True)\n",
    "weight_path=f\"{MODEL_NAME}_weights.best.hdf5\".format('Basic_CNN')\n",
    "\n",
    "# https://keras.io/api/callbacks/model_checkpoint/\n",
    "checkpoint = ModelCheckpoint(\n",
    "    weight_path,\n",
    "    monitor='val_loss',\n",
    "    verbose=1, \n",
    "    save_best_only=True,\n",
    "    mode='min',\n",
    "    save_weights_only = True)\n",
    "\n",
    "# https://keras.io/api/callbacks/early_stopping/\n",
    "earlystop = EarlyStopping(\n",
    "    monitor = 'val_loss',\n",
    "    min_delta = 1e-4,\n",
    "    patience = 5,\n",
    "    mode = 'min', \n",
    "    restore_best_weights = True,\n",
    "    verbose = 1)\n",
    "\n",
    "# https://keras.io/api/callbacks/reduce_lr_on_plateau/\n",
    "reduceLROnPlat = ReduceLROnPlateau(\n",
    "    monitor='val_loss',\n",
    "    factor=0.1,\n",
    "    patience=2,\n",
    "    verbose=1,\n",
    "    mode='auto',\n",
    "    min_delta=1e-4,\n",
    "    cooldown=1,\n",
    "    min_lr=1e-6)\n",
    "\n",
    "\n",
    "callbacks_list = [checkpoint, earlystop, reduceLROnPlat]\n",
    "\n",
    "\n",
    "model.compile(optimizer='adam', \n",
    "              loss=keras.losses.BinaryCrossentropy(label_smoothing=0.0), \n",
    "                metrics=[\n",
    "                    keras.metrics.BinaryAccuracy(name='accuracy'),\n",
    "                    keras.metrics.Precision(name='precision'),\n",
    "                    keras.metrics.Recall(name='recall'),\n",
    "                    keras.metrics.AUC(name='auc', multi_label=True)])\n",
    "\n",
    "model.summary()"
   ]
  },
  {
   "cell_type": "code",
   "execution_count": 15,
   "metadata": {
    "execution": {
     "iopub.execute_input": "2021-01-28T17:03:09.566633Z",
     "iopub.status.busy": "2021-01-28T17:03:09.566068Z",
     "iopub.status.idle": "2021-01-28T17:19:54.648807Z",
     "shell.execute_reply": "2021-01-28T17:19:54.647553Z"
    },
    "papermill": {
     "duration": 1005.132346,
     "end_time": "2021-01-28T17:19:54.648922",
     "exception": false,
     "start_time": "2021-01-28T17:03:09.516576",
     "status": "completed"
    },
    "tags": []
   },
   "outputs": [
    {
     "name": "stdout",
     "output_type": "stream",
     "text": [
      "Loading weights from: ResNet18_weights.best.hdf5\n",
      "Epoch 1/8\n",
      " 210/3847 [>.............................] - ETA: 6:12 - loss: 0.1223 - accuracy: 0.9344 - precision: 0.8651 - recall: 0.4339 - auc: 0.8604"
     ]
    },
    {
     "name": "stderr",
     "output_type": "stream",
     "text": [
      "2024-03-10 19:42:52.898459: W tensorflow/core/lib/png/png_io.cc:88] PNG warning: iCCP: profile 'ICC Profile': 'GRAY': Gray color space not permitted on RGB PNG\n"
     ]
    },
    {
     "name": "stdout",
     "output_type": "stream",
     "text": [
      "1437/3847 [==========>...................] - ETA: 4:07 - loss: 0.1189 - accuracy: 0.9344 - precision: 0.8604 - recall: 0.4381 - auc: 0.8639"
     ]
    },
    {
     "name": "stderr",
     "output_type": "stream",
     "text": [
      "2024-03-10 19:44:59.011864: W tensorflow/core/lib/png/png_io.cc:88] PNG warning: iCCP: profile 'ICC Profile': 'GRAY': Gray color space not permitted on RGB PNG\n"
     ]
    },
    {
     "name": "stdout",
     "output_type": "stream",
     "text": [
      "1924/3847 [==============>...............] - ETA: 3:17 - loss: 0.1162 - accuracy: 0.9349 - precision: 0.8620 - recall: 0.4428 - auc: 0.8677"
     ]
    },
    {
     "name": "stderr",
     "output_type": "stream",
     "text": [
      "2024-03-10 19:45:49.234440: W tensorflow/core/lib/png/png_io.cc:88] PNG warning: iCCP: profile 'ICC Profile': 'GRAY': Gray color space not permitted on RGB PNG\n"
     ]
    },
    {
     "name": "stdout",
     "output_type": "stream",
     "text": [
      "3846/3847 [============================>.] - ETA: 0s - loss: 0.1047 - accuracy: 0.9374 - precision: 0.8747 - recall: 0.4637 - auc: 0.8735\n",
      "Epoch 1: val_loss improved from 0.16786 to 0.12840, saving model to ResNet18_weights.best.hdf5\n",
      "3847/3847 [==============================] - 425s 111ms/step - loss: 0.1047 - accuracy: 0.9374 - precision: 0.8747 - recall: 0.4637 - auc: 0.8735 - val_loss: 0.1284 - val_accuracy: 0.9343 - val_precision: 0.8144 - val_recall: 0.4696 - val_auc: 0.8359 - lr: 0.0010\n",
      "Epoch 2/8\n",
      " 210/3847 [>.............................] - ETA: 6:12 - loss: 0.0813 - accuracy: 0.9437 - precision: 0.9006 - recall: 0.5126 - auc: 0.8951"
     ]
    },
    {
     "name": "stderr",
     "output_type": "stream",
     "text": [
      "2024-03-10 19:49:58.073228: W tensorflow/core/lib/png/png_io.cc:88] PNG warning: iCCP: profile 'ICC Profile': 'GRAY': Gray color space not permitted on RGB PNG\n"
     ]
    },
    {
     "name": "stdout",
     "output_type": "stream",
     "text": [
      "1437/3847 [==========>...................] - ETA: 4:08 - loss: 0.0767 - accuracy: 0.9447 - precision: 0.9050 - recall: 0.5211 - auc: 0.8937"
     ]
    },
    {
     "name": "stderr",
     "output_type": "stream",
     "text": [
      "2024-03-10 19:52:04.791419: W tensorflow/core/lib/png/png_io.cc:88] PNG warning: iCCP: profile 'ICC Profile': 'GRAY': Gray color space not permitted on RGB PNG\n"
     ]
    },
    {
     "name": "stdout",
     "output_type": "stream",
     "text": [
      "1923/3847 [=============>................] - ETA: 3:18 - loss: 0.0749 - accuracy: 0.9453 - precision: 0.9080 - recall: 0.5251 - auc: 0.8943"
     ]
    },
    {
     "name": "stderr",
     "output_type": "stream",
     "text": [
      "2024-03-10 19:52:55.179900: W tensorflow/core/lib/png/png_io.cc:88] PNG warning: iCCP: profile 'ICC Profile': 'GRAY': Gray color space not permitted on RGB PNG\n"
     ]
    },
    {
     "name": "stdout",
     "output_type": "stream",
     "text": [
      "3846/3847 [============================>.] - ETA: 0s - loss: 0.0668 - accuracy: 0.9471 - precision: 0.9185 - recall: 0.5392 - auc: 0.8973\n",
      "Epoch 2: val_loss improved from 0.12840 to 0.11938, saving model to ResNet18_weights.best.hdf5\n",
      "3847/3847 [==============================] - 426s 111ms/step - loss: 0.0668 - accuracy: 0.9471 - precision: 0.9185 - recall: 0.5392 - auc: 0.8973 - val_loss: 0.1194 - val_accuracy: 0.9370 - val_precision: 0.8285 - val_recall: 0.4903 - val_auc: 0.8353 - lr: 0.0010\n",
      "Epoch 3/8\n",
      " 210/3847 [>.............................] - ETA: 6:16 - loss: 0.0496 - accuracy: 0.9524 - precision: 0.9458 - recall: 0.5724 - auc: 0.9084"
     ]
    },
    {
     "name": "stderr",
     "output_type": "stream",
     "text": [
      "2024-03-10 19:57:04.418992: W tensorflow/core/lib/png/png_io.cc:88] PNG warning: iCCP: profile 'ICC Profile': 'GRAY': Gray color space not permitted on RGB PNG\n"
     ]
    },
    {
     "name": "stdout",
     "output_type": "stream",
     "text": [
      "1437/3847 [==========>...................] - ETA: 4:08 - loss: 0.0477 - accuracy: 0.9526 - precision: 0.9448 - recall: 0.5763 - auc: 0.9039"
     ]
    },
    {
     "name": "stderr",
     "output_type": "stream",
     "text": [
      "2024-03-10 19:59:11.129044: W tensorflow/core/lib/png/png_io.cc:88] PNG warning: iCCP: profile 'ICC Profile': 'GRAY': Gray color space not permitted on RGB PNG\n"
     ]
    },
    {
     "name": "stdout",
     "output_type": "stream",
     "text": [
      "1924/3847 [==============>...............] - ETA: 3:18 - loss: 0.0470 - accuracy: 0.9527 - precision: 0.9445 - recall: 0.5777 - auc: 0.9043"
     ]
    },
    {
     "name": "stderr",
     "output_type": "stream",
     "text": [
      "2024-03-10 20:00:01.447408: W tensorflow/core/lib/png/png_io.cc:88] PNG warning: iCCP: profile 'ICC Profile': 'GRAY': Gray color space not permitted on RGB PNG\n"
     ]
    },
    {
     "name": "stdout",
     "output_type": "stream",
     "text": [
      "3846/3847 [============================>.] - ETA: 0s - loss: 0.0419 - accuracy: 0.9537 - precision: 0.9505 - recall: 0.5850 - auc: 0.9053\n",
      "Epoch 3: val_loss did not improve from 0.11938\n",
      "3847/3847 [==============================] - 426s 111ms/step - loss: 0.0419 - accuracy: 0.9537 - precision: 0.9505 - recall: 0.5850 - auc: 0.9053 - val_loss: 0.1308 - val_accuracy: 0.9371 - val_precision: 0.8189 - val_recall: 0.4999 - val_auc: 0.8227 - lr: 0.0010\n",
      "Epoch 4/8\n",
      " 210/3847 [>.............................] - ETA: 6:13 - loss: 0.0344 - accuracy: 0.9564 - precision: 0.9620 - recall: 0.6023 - auc: 0.9040"
     ]
    },
    {
     "name": "stderr",
     "output_type": "stream",
     "text": [
      "2024-03-10 20:04:10.206506: W tensorflow/core/lib/png/png_io.cc:88] PNG warning: iCCP: profile 'ICC Profile': 'GRAY': Gray color space not permitted on RGB PNG\n"
     ]
    },
    {
     "name": "stdout",
     "output_type": "stream",
     "text": [
      "1437/3847 [==========>...................] - ETA: 4:09 - loss: 0.0320 - accuracy: 0.9566 - precision: 0.9638 - recall: 0.6042 - auc: 0.9078"
     ]
    },
    {
     "name": "stderr",
     "output_type": "stream",
     "text": [
      "2024-03-10 20:06:17.158806: W tensorflow/core/lib/png/png_io.cc:88] PNG warning: iCCP: profile 'ICC Profile': 'GRAY': Gray color space not permitted on RGB PNG\n"
     ]
    },
    {
     "name": "stdout",
     "output_type": "stream",
     "text": [
      "1924/3847 [==============>...............] - ETA: 3:19 - loss: 0.0314 - accuracy: 0.9568 - precision: 0.9643 - recall: 0.6055 - auc: 0.9071"
     ]
    },
    {
     "name": "stderr",
     "output_type": "stream",
     "text": [
      "2024-03-10 20:07:07.796576: W tensorflow/core/lib/png/png_io.cc:88] PNG warning: iCCP: profile 'ICC Profile': 'GRAY': Gray color space not permitted on RGB PNG\n"
     ]
    },
    {
     "name": "stdout",
     "output_type": "stream",
     "text": [
      "3846/3847 [============================>.] - ETA: 0s - loss: 0.0287 - accuracy: 0.9572 - precision: 0.9679 - recall: 0.6082 - auc: 0.9057\n",
      "Epoch 4: val_loss improved from 0.11938 to 0.11067, saving model to ResNet18_weights.best.hdf5\n",
      "3847/3847 [==============================] - 427s 111ms/step - loss: 0.0287 - accuracy: 0.9572 - precision: 0.9679 - recall: 0.6082 - auc: 0.9057 - val_loss: 0.1107 - val_accuracy: 0.9419 - val_precision: 0.8526 - val_recall: 0.5269 - val_auc: 0.8507 - lr: 0.0010\n",
      "Epoch 5/8\n",
      " 210/3847 [>.............................] - ETA: 6:15 - loss: 0.0232 - accuracy: 0.9586 - precision: 0.9722 - recall: 0.6173 - auc: 0.9112"
     ]
    },
    {
     "name": "stderr",
     "output_type": "stream",
     "text": [
      "2024-03-10 20:11:16.902746: W tensorflow/core/lib/png/png_io.cc:88] PNG warning: iCCP: profile 'ICC Profile': 'GRAY': Gray color space not permitted on RGB PNG\n"
     ]
    },
    {
     "name": "stdout",
     "output_type": "stream",
     "text": [
      "1437/3847 [==========>...................] - ETA: 4:08 - loss: 0.0234 - accuracy: 0.9587 - precision: 0.9745 - recall: 0.6178 - auc: 0.9053"
     ]
    },
    {
     "name": "stderr",
     "output_type": "stream",
     "text": [
      "2024-03-10 20:13:23.551285: W tensorflow/core/lib/png/png_io.cc:88] PNG warning: iCCP: profile 'ICC Profile': 'GRAY': Gray color space not permitted on RGB PNG\n"
     ]
    },
    {
     "name": "stdout",
     "output_type": "stream",
     "text": [
      "1924/3847 [==============>...............] - ETA: 3:18 - loss: 0.0234 - accuracy: 0.9587 - precision: 0.9744 - recall: 0.6177 - auc: 0.9061"
     ]
    },
    {
     "name": "stderr",
     "output_type": "stream",
     "text": [
      "2024-03-10 20:14:13.805470: W tensorflow/core/lib/png/png_io.cc:88] PNG warning: iCCP: profile 'ICC Profile': 'GRAY': Gray color space not permitted on RGB PNG\n"
     ]
    },
    {
     "name": "stdout",
     "output_type": "stream",
     "text": [
      "3846/3847 [============================>.] - ETA: 0s - loss: 0.0217 - accuracy: 0.9589 - precision: 0.9772 - recall: 0.6187 - auc: 0.9046\n",
      "Epoch 5: val_loss did not improve from 0.11067\n",
      "3847/3847 [==============================] - 426s 111ms/step - loss: 0.0217 - accuracy: 0.9589 - precision: 0.9772 - recall: 0.6187 - auc: 0.9046 - val_loss: 0.1218 - val_accuracy: 0.9435 - val_precision: 0.8572 - val_recall: 0.5423 - val_auc: 0.8236 - lr: 0.0010\n",
      "Epoch 6/8\n",
      " 210/3847 [>.............................] - ETA: 6:18 - loss: 0.0192 - accuracy: 0.9602 - precision: 0.9823 - recall: 0.6270 - auc: 0.9017"
     ]
    },
    {
     "name": "stderr",
     "output_type": "stream",
     "text": [
      "2024-03-10 20:18:23.021738: W tensorflow/core/lib/png/png_io.cc:88] PNG warning: iCCP: profile 'ICC Profile': 'GRAY': Gray color space not permitted on RGB PNG\n"
     ]
    },
    {
     "name": "stdout",
     "output_type": "stream",
     "text": [
      "1437/3847 [==========>...................] - ETA: 4:09 - loss: 0.0180 - accuracy: 0.9601 - precision: 0.9826 - recall: 0.6256 - auc: 0.8991"
     ]
    },
    {
     "name": "stderr",
     "output_type": "stream",
     "text": [
      "2024-03-10 20:20:29.699888: W tensorflow/core/lib/png/png_io.cc:88] PNG warning: iCCP: profile 'ICC Profile': 'GRAY': Gray color space not permitted on RGB PNG\n"
     ]
    },
    {
     "name": "stdout",
     "output_type": "stream",
     "text": [
      "1924/3847 [==============>...............] - ETA: 3:18 - loss: 0.0179 - accuracy: 0.9601 - precision: 0.9828 - recall: 0.6258 - auc: 0.8996"
     ]
    },
    {
     "name": "stderr",
     "output_type": "stream",
     "text": [
      "2024-03-10 20:21:20.165135: W tensorflow/core/lib/png/png_io.cc:88] PNG warning: iCCP: profile 'ICC Profile': 'GRAY': Gray color space not permitted on RGB PNG\n"
     ]
    },
    {
     "name": "stdout",
     "output_type": "stream",
     "text": [
      "3846/3847 [============================>.] - ETA: 0s - loss: 0.0170 - accuracy: 0.9600 - precision: 0.9836 - recall: 0.6253 - auc: 0.8985\n",
      "Epoch 6: val_loss did not improve from 0.11067\n",
      "\n",
      "Epoch 6: ReduceLROnPlateau reducing learning rate to 0.00010000000474974513.\n",
      "3847/3847 [==============================] - 427s 111ms/step - loss: 0.0170 - accuracy: 0.9600 - precision: 0.9836 - recall: 0.6253 - auc: 0.8985 - val_loss: 0.1250 - val_accuracy: 0.9426 - val_precision: 0.8508 - val_recall: 0.5365 - val_auc: 0.8256 - lr: 0.0010\n",
      "Epoch 7/8\n",
      " 210/3847 [>.............................] - ETA: 6:13 - loss: 0.0136 - accuracy: 0.9609 - precision: 0.9868 - recall: 0.6303 - auc: 0.9009"
     ]
    },
    {
     "name": "stderr",
     "output_type": "stream",
     "text": [
      "2024-03-10 20:25:29.581726: W tensorflow/core/lib/png/png_io.cc:88] PNG warning: iCCP: profile 'ICC Profile': 'GRAY': Gray color space not permitted on RGB PNG\n"
     ]
    },
    {
     "name": "stdout",
     "output_type": "stream",
     "text": [
      "1437/3847 [==========>...................] - ETA: 4:08 - loss: 0.0110 - accuracy: 0.9613 - precision: 0.9901 - recall: 0.6328 - auc: 0.8973"
     ]
    },
    {
     "name": "stderr",
     "output_type": "stream",
     "text": [
      "2024-03-10 20:27:36.163149: W tensorflow/core/lib/png/png_io.cc:88] PNG warning: iCCP: profile 'ICC Profile': 'GRAY': Gray color space not permitted on RGB PNG\n"
     ]
    },
    {
     "name": "stdout",
     "output_type": "stream",
     "text": [
      "1924/3847 [==============>...............] - ETA: 3:18 - loss: 0.0101 - accuracy: 0.9614 - precision: 0.9908 - recall: 0.6333 - auc: 0.8976"
     ]
    },
    {
     "name": "stderr",
     "output_type": "stream",
     "text": [
      "2024-03-10 20:28:26.331735: W tensorflow/core/lib/png/png_io.cc:88] PNG warning: iCCP: profile 'ICC Profile': 'GRAY': Gray color space not permitted on RGB PNG\n"
     ]
    },
    {
     "name": "stdout",
     "output_type": "stream",
     "text": [
      "3846/3847 [============================>.] - ETA: 0s - loss: 0.0070 - accuracy: 0.9617 - precision: 0.9943 - recall: 0.6348 - auc: 0.8967\n",
      "Epoch 7: val_loss improved from 0.11067 to 0.10770, saving model to ResNet18_weights.best.hdf5\n",
      "3847/3847 [==============================] - 426s 111ms/step - loss: 0.0070 - accuracy: 0.9617 - precision: 0.9943 - recall: 0.6348 - auc: 0.8967 - val_loss: 0.1077 - val_accuracy: 0.9484 - val_precision: 0.8907 - val_recall: 0.5694 - val_auc: 0.8481 - lr: 1.0000e-04\n",
      "Epoch 8/8\n",
      " 210/3847 [>.............................] - ETA: 6:18 - loss: 0.0023 - accuracy: 0.9628 - precision: 0.9988 - recall: 0.6408 - auc: 0.9073"
     ]
    },
    {
     "name": "stderr",
     "output_type": "stream",
     "text": [
      "2024-03-10 20:32:36.044779: W tensorflow/core/lib/png/png_io.cc:88] PNG warning: iCCP: profile 'ICC Profile': 'GRAY': Gray color space not permitted on RGB PNG\n"
     ]
    },
    {
     "name": "stdout",
     "output_type": "stream",
     "text": [
      "1437/3847 [==========>...................] - ETA: 4:09 - loss: 0.0017 - accuracy: 0.9628 - precision: 0.9998 - recall: 0.6408 - auc: 0.8972"
     ]
    },
    {
     "name": "stderr",
     "output_type": "stream",
     "text": [
      "2024-03-10 20:34:42.778020: W tensorflow/core/lib/png/png_io.cc:88] PNG warning: iCCP: profile 'ICC Profile': 'GRAY': Gray color space not permitted on RGB PNG\n"
     ]
    },
    {
     "name": "stdout",
     "output_type": "stream",
     "text": [
      "1924/3847 [==============>...............] - ETA: 3:18 - loss: 0.0015 - accuracy: 0.9628 - precision: 0.9998 - recall: 0.6408 - auc: 0.8953"
     ]
    },
    {
     "name": "stderr",
     "output_type": "stream",
     "text": [
      "2024-03-10 20:35:33.140149: W tensorflow/core/lib/png/png_io.cc:88] PNG warning: iCCP: profile 'ICC Profile': 'GRAY': Gray color space not permitted on RGB PNG\n"
     ]
    },
    {
     "name": "stdout",
     "output_type": "stream",
     "text": [
      "3846/3847 [============================>.] - ETA: 0s - loss: 9.6772e-04 - accuracy: 0.9625 - precision: 0.9999 - recall: 0.6396 - auc: 0.8891\n",
      "Epoch 8: val_loss did not improve from 0.10770\n",
      "3847/3847 [==============================] - 427s 111ms/step - loss: 9.6766e-04 - accuracy: 0.9625 - precision: 0.9999 - recall: 0.6396 - auc: 0.8891 - val_loss: 0.1354 - val_accuracy: 0.9486 - val_precision: 0.8900 - val_recall: 0.5716 - val_auc: 0.8315 - lr: 1.0000e-04\n",
      "\n",
      "Training took 3409.47026014328 sec\n"
     ]
    }
   ],
   "source": [
    "# Check if weight checkpoint exists\n",
    "if os.path.exists(weight_path):\n",
    "    print(\"Loading weights from:\", weight_path)\n",
    "    model.load_weights(weight_path)\n",
    "else:\n",
    "    print(\"No weights found, starting training from scratch.\")\n",
    "\n",
    "start = time()\n",
    "Basic_CNN_history = model.fit(\n",
    "                    train_ds,\n",
    "                    epochs=8,\n",
    "                    validation_data=val_ds,\n",
    "                    callbacks=callbacks_list\n",
    "                    )\n",
    "print('\\nTraining took {} sec'.format((time()-start)))\n",
    "model.save(f\"{MODEL_NAME}.keras\")\n"
   ]
  },
  {
   "cell_type": "markdown",
   "metadata": {
    "papermill": {
     "duration": 2.422799,
     "end_time": "2021-01-28T17:19:59.285877",
     "exception": false,
     "start_time": "2021-01-28T17:19:56.863078",
     "status": "completed"
    },
    "tags": []
   },
   "source": [
    "## train curve"
   ]
  },
  {
   "cell_type": "code",
   "execution_count": 16,
   "metadata": {
    "execution": {
     "iopub.execute_input": "2021-01-28T17:20:03.774078Z",
     "iopub.status.busy": "2021-01-28T17:20:03.766691Z",
     "iopub.status.idle": "2021-01-28T17:20:04.041248Z",
     "shell.execute_reply": "2021-01-28T17:20:04.040789Z"
    },
    "papermill": {
     "duration": 2.489958,
     "end_time": "2021-01-28T17:20:04.041349",
     "exception": false,
     "start_time": "2021-01-28T17:20:01.551391",
     "status": "completed"
    },
    "tags": []
   },
   "outputs": [
    {
     "name": "stdout",
     "output_type": "stream",
     "text": [
      "dict_keys(['loss', 'accuracy', 'precision', 'recall', 'auc', 'val_loss', 'val_accuracy', 'val_precision', 'val_recall', 'val_auc', 'lr'])\n"
     ]
    },
    {
     "data": {
      "image/png": "[encoded data removed]",
      "text/plain": [
       "<Figure size 1500x500 with 2 Axes>"
      ]
     },
     "metadata": {},
     "output_type": "display_data"
    }
   ],
   "source": [
    "\n",
    "def plotmodelhistory(history): \n",
    "    fig, axs = plt.subplots(1,2,figsize=(15,5)) \n",
    "    # summarize history for accuracy\n",
    "    axs[0].plot(history.history['accuracy']) \n",
    "    axs[0].plot(history.history['val_accuracy']) \n",
    "    axs[0].set_title('Model Accuracy')\n",
    "    axs[0].set_ylabel('Accuracy') \n",
    "    axs[0].set_xlabel('Epoch')\n",
    "    \n",
    "    axs[0].legend(['train', 'validate'], loc='upper left')\n",
    "    # summarize history for loss\n",
    "    axs[1].plot(history.history['loss']) \n",
    "    axs[1].plot(history.history['val_loss']) \n",
    "    axs[1].set_title('Model Loss')\n",
    "    axs[1].set_ylabel('Loss') \n",
    "    axs[1].set_xlabel('Epoch')\n",
    "    axs[1].legend(['train', 'validate'], loc='upper left')\n",
    "    plt.show()\n",
    "\n",
    "# list all data in history\n",
    "print(Basic_CNN_history.history.keys())\n",
    "plotmodelhistory(Basic_CNN_history)\n",
    "\n",
    "# TOTAL EPOCHS = 10"
   ]
  },
  {
   "cell_type": "markdown",
   "metadata": {
    "papermill": {
     "duration": 2.227984,
     "end_time": "2021-01-28T17:20:08.481034",
     "exception": false,
     "start_time": "2021-01-28T17:20:06.253050",
     "status": "completed"
    },
    "tags": []
   },
   "source": [
    "##  Prediction"
   ]
  },
  {
   "cell_type": "code",
   "execution_count": 35,
   "metadata": {},
   "outputs": [
    {
     "name": "stdout",
     "output_type": "stream",
     "text": [
      "103/962 [==>...........................] - ETA: 27s"
     ]
    },
    {
     "ename": "KeyboardInterrupt",
     "evalue": "",
     "output_type": "error",
     "traceback": [
      "\u001b[0;31m---------------------------------------------------------------------------\u001b[0m",
      "\u001b[0;31mKeyboardInterrupt\u001b[0m                         Traceback (most recent call last)",
      "Cell \u001b[0;32mIn[35], line 1\u001b[0m\n\u001b[0;32m----> 1\u001b[0m \u001b[43mgenerate_report\u001b[49m\u001b[43m(\u001b[49m\u001b[43mmodel\u001b[49m\u001b[43m,\u001b[49m\u001b[43m \u001b[49m\u001b[43mval_ds\u001b[49m\u001b[43m,\u001b[49m\u001b[43m \u001b[49m\u001b[43my_val\u001b[49m\u001b[43m,\u001b[49m\u001b[43m \u001b[49m\u001b[43mMODEL_NAME\u001b[49m\u001b[43m,\u001b[49m\u001b[43m \u001b[49m\u001b[43mALL_LABELS\u001b[49m\u001b[43m)\u001b[49m\n",
      "File \u001b[0;32m~/Documents/UoL/FINAL_PROJECT/Code/models/report.py:6\u001b[0m, in \u001b[0;36mgenerate_report\u001b[0;34m(model, ds, y_values, model_name, ALL_LABELS, extra)\u001b[0m\n",
      "File \u001b[0;32m~/miniconda3/envs/tf/lib/python3.9/site-packages/keras/src/utils/traceback_utils.py:65\u001b[0m, in \u001b[0;36mfilter_traceback.<locals>.error_handler\u001b[0;34m(*args, **kwargs)\u001b[0m\n\u001b[1;32m     63\u001b[0m filtered_tb \u001b[38;5;241m=\u001b[39m \u001b[38;5;28;01mNone\u001b[39;00m\n\u001b[1;32m     64\u001b[0m \u001b[38;5;28;01mtry\u001b[39;00m:\n\u001b[0;32m---> 65\u001b[0m     \u001b[38;5;28;01mreturn\u001b[39;00m \u001b[43mfn\u001b[49m\u001b[43m(\u001b[49m\u001b[38;5;241;43m*\u001b[39;49m\u001b[43margs\u001b[49m\u001b[43m,\u001b[49m\u001b[43m \u001b[49m\u001b[38;5;241;43m*\u001b[39;49m\u001b[38;5;241;43m*\u001b[39;49m\u001b[43mkwargs\u001b[49m\u001b[43m)\u001b[49m\n\u001b[1;32m     66\u001b[0m \u001b[38;5;28;01mexcept\u001b[39;00m \u001b[38;5;167;01mException\u001b[39;00m \u001b[38;5;28;01mas\u001b[39;00m e:\n\u001b[1;32m     67\u001b[0m     filtered_tb \u001b[38;5;241m=\u001b[39m _process_traceback_frames(e\u001b[38;5;241m.\u001b[39m__traceback__)\n",
      "File \u001b[0;32m~/miniconda3/envs/tf/lib/python3.9/site-packages/keras/src/engine/training.py:2653\u001b[0m, in \u001b[0;36mModel.predict\u001b[0;34m(self, x, batch_size, verbose, steps, callbacks, max_queue_size, workers, use_multiprocessing)\u001b[0m\n\u001b[1;32m   2651\u001b[0m \u001b[38;5;28;01mfor\u001b[39;00m _, iterator \u001b[38;5;129;01min\u001b[39;00m data_handler\u001b[38;5;241m.\u001b[39menumerate_epochs():  \u001b[38;5;66;03m# Single epoch.\u001b[39;00m\n\u001b[1;32m   2652\u001b[0m     \u001b[38;5;28;01mwith\u001b[39;00m data_handler\u001b[38;5;241m.\u001b[39mcatch_stop_iteration():\n\u001b[0;32m-> 2653\u001b[0m         \u001b[38;5;28;01mfor\u001b[39;00m step \u001b[38;5;129;01min\u001b[39;00m data_handler\u001b[38;5;241m.\u001b[39msteps():\n\u001b[1;32m   2654\u001b[0m             callbacks\u001b[38;5;241m.\u001b[39mon_predict_batch_begin(step)\n\u001b[1;32m   2655\u001b[0m             tmp_batch_outputs \u001b[38;5;241m=\u001b[39m \u001b[38;5;28mself\u001b[39m\u001b[38;5;241m.\u001b[39mpredict_function(iterator)\n",
      "File \u001b[0;32m~/miniconda3/envs/tf/lib/python3.9/site-packages/keras/src/engine/data_adapter.py:1411\u001b[0m, in \u001b[0;36mDataHandler.steps\u001b[0;34m(self)\u001b[0m\n\u001b[1;32m   1409\u001b[0m \u001b[38;5;28;01mif\u001b[39;00m \u001b[38;5;28mself\u001b[39m\u001b[38;5;241m.\u001b[39m_insufficient_data:  \u001b[38;5;66;03m# Set by `catch_stop_iteration`.\u001b[39;00m\n\u001b[1;32m   1410\u001b[0m     \u001b[38;5;28;01mbreak\u001b[39;00m\n\u001b[0;32m-> 1411\u001b[0m original_spe \u001b[38;5;241m=\u001b[39m \u001b[38;5;28;43mself\u001b[39;49m\u001b[38;5;241;43m.\u001b[39;49m\u001b[43m_steps_per_execution\u001b[49m\u001b[38;5;241;43m.\u001b[39;49m\u001b[43mnumpy\u001b[49m\u001b[43m(\u001b[49m\u001b[43m)\u001b[49m\u001b[38;5;241m.\u001b[39mitem()\n\u001b[1;32m   1412\u001b[0m can_run_full_execution \u001b[38;5;241m=\u001b[39m (\n\u001b[1;32m   1413\u001b[0m     original_spe \u001b[38;5;241m==\u001b[39m \u001b[38;5;241m1\u001b[39m\n\u001b[1;32m   1414\u001b[0m     \u001b[38;5;129;01mor\u001b[39;00m \u001b[38;5;28mself\u001b[39m\u001b[38;5;241m.\u001b[39m_inferred_steps \u001b[38;5;129;01mis\u001b[39;00m \u001b[38;5;28;01mNone\u001b[39;00m\n\u001b[1;32m   1415\u001b[0m     \u001b[38;5;129;01mor\u001b[39;00m \u001b[38;5;28mself\u001b[39m\u001b[38;5;241m.\u001b[39m_inferred_steps \u001b[38;5;241m-\u001b[39m \u001b[38;5;28mself\u001b[39m\u001b[38;5;241m.\u001b[39m_current_step \u001b[38;5;241m>\u001b[39m\u001b[38;5;241m=\u001b[39m original_spe\n\u001b[1;32m   1416\u001b[0m )\n\u001b[1;32m   1418\u001b[0m \u001b[38;5;28;01mif\u001b[39;00m can_run_full_execution:\n",
      "File \u001b[0;32m~/miniconda3/envs/tf/lib/python3.9/site-packages/tensorflow/python/ops/resource_variable_ops.py:689\u001b[0m, in \u001b[0;36mBaseResourceVariable.numpy\u001b[0;34m(self)\u001b[0m\n\u001b[1;32m    687\u001b[0m \u001b[38;5;28;01mdef\u001b[39;00m \u001b[38;5;21mnumpy\u001b[39m(\u001b[38;5;28mself\u001b[39m):\n\u001b[1;32m    688\u001b[0m   \u001b[38;5;28;01mif\u001b[39;00m context\u001b[38;5;241m.\u001b[39mexecuting_eagerly():\n\u001b[0;32m--> 689\u001b[0m     \u001b[38;5;28;01mreturn\u001b[39;00m \u001b[38;5;28;43mself\u001b[39;49m\u001b[38;5;241;43m.\u001b[39;49m\u001b[43mread_value\u001b[49m\u001b[43m(\u001b[49m\u001b[43m)\u001b[49m\u001b[38;5;241;43m.\u001b[39;49m\u001b[43mnumpy\u001b[49m\u001b[43m(\u001b[49m\u001b[43m)\u001b[49m\n\u001b[1;32m    690\u001b[0m   \u001b[38;5;28;01mraise\u001b[39;00m \u001b[38;5;167;01mNotImplementedError\u001b[39;00m(\n\u001b[1;32m    691\u001b[0m       \u001b[38;5;124m\"\u001b[39m\u001b[38;5;124mnumpy() is only available when eager execution is enabled.\u001b[39m\u001b[38;5;124m\"\u001b[39m)\n",
      "File \u001b[0;32m~/miniconda3/envs/tf/lib/python3.9/site-packages/tensorflow/python/framework/ops.py:394\u001b[0m, in \u001b[0;36m_EagerTensorBase.numpy\u001b[0;34m(self)\u001b[0m\n\u001b[1;32m    371\u001b[0m \u001b[38;5;250m\u001b[39m\u001b[38;5;124;03m\"\"\"Copy of the contents of this Tensor into a NumPy array or scalar.\u001b[39;00m\n\u001b[1;32m    372\u001b[0m \n\u001b[1;32m    373\u001b[0m \u001b[38;5;124;03mUnlike NumPy arrays, Tensors are immutable, so this method has to copy\u001b[39;00m\n\u001b[0;32m   (...)\u001b[0m\n\u001b[1;32m    391\u001b[0m \u001b[38;5;124;03m    NumPy dtype.\u001b[39;00m\n\u001b[1;32m    392\u001b[0m \u001b[38;5;124;03m\"\"\"\u001b[39;00m\n\u001b[1;32m    393\u001b[0m \u001b[38;5;66;03m# TODO(slebedev): Consider avoiding a copy for non-CPU or remote tensors.\u001b[39;00m\n\u001b[0;32m--> 394\u001b[0m maybe_arr \u001b[38;5;241m=\u001b[39m \u001b[38;5;28;43mself\u001b[39;49m\u001b[38;5;241;43m.\u001b[39;49m\u001b[43m_numpy\u001b[49m\u001b[43m(\u001b[49m\u001b[43m)\u001b[49m  \u001b[38;5;66;03m# pylint: disable=protected-access\u001b[39;00m\n\u001b[1;32m    395\u001b[0m \u001b[38;5;28;01mreturn\u001b[39;00m maybe_arr\u001b[38;5;241m.\u001b[39mcopy() \u001b[38;5;28;01mif\u001b[39;00m \u001b[38;5;28misinstance\u001b[39m(maybe_arr, np\u001b[38;5;241m.\u001b[39mndarray) \u001b[38;5;28;01melse\u001b[39;00m maybe_arr\n",
      "File \u001b[0;32m~/miniconda3/envs/tf/lib/python3.9/site-packages/tensorflow/python/framework/ops.py:360\u001b[0m, in \u001b[0;36m_EagerTensorBase._numpy\u001b[0;34m(self)\u001b[0m\n\u001b[1;32m    358\u001b[0m \u001b[38;5;28;01mdef\u001b[39;00m \u001b[38;5;21m_numpy\u001b[39m(\u001b[38;5;28mself\u001b[39m):\n\u001b[1;32m    359\u001b[0m   \u001b[38;5;28;01mtry\u001b[39;00m:\n\u001b[0;32m--> 360\u001b[0m     \u001b[38;5;28;01mreturn\u001b[39;00m \u001b[38;5;28;43mself\u001b[39;49m\u001b[38;5;241;43m.\u001b[39;49m\u001b[43m_numpy_internal\u001b[49m\u001b[43m(\u001b[49m\u001b[43m)\u001b[49m\n\u001b[1;32m    361\u001b[0m   \u001b[38;5;28;01mexcept\u001b[39;00m core\u001b[38;5;241m.\u001b[39m_NotOkStatusException \u001b[38;5;28;01mas\u001b[39;00m e:  \u001b[38;5;66;03m# pylint: disable=protected-access\u001b[39;00m\n\u001b[1;32m    362\u001b[0m     \u001b[38;5;28;01mraise\u001b[39;00m core\u001b[38;5;241m.\u001b[39m_status_to_exception(e) \u001b[38;5;28;01mfrom\u001b[39;00m \u001b[38;5;28;01mNone\u001b[39;00m\n",
      "\u001b[0;31mKeyboardInterrupt\u001b[0m: "
     ]
    }
   ],
   "source": [
    "generate_report(model, val_ds, y_val, MODEL_NAME, ALL_LABELS)"
   ]
  },
  {
   "cell_type": "code",
   "execution_count": 28,
   "metadata": {},
   "outputs": [
    {
     "name": "stdout",
     "output_type": "stream",
     "text": [
      "2200/2200 [==============================] - 66s 30ms/step\n"
     ]
    },
    {
     "name": "stderr",
     "output_type": "stream",
     "text": [
      "/home/kayaba_attribution/miniconda3/envs/tf/lib/python3.9/site-packages/sklearn/metrics/_classification.py:1469: UndefinedMetricWarning: Precision and F-score are ill-defined and being set to 0.0 in labels with no predicted samples. Use `zero_division` parameter to control this behavior.\n",
      "  _warn_prf(average, modifier, msg_start, len(result))\n",
      "/home/kayaba_attribution/miniconda3/envs/tf/lib/python3.9/site-packages/sklearn/metrics/_classification.py:1469: UndefinedMetricWarning: Precision and F-score are ill-defined and being set to 0.0 in samples with no predicted labels. Use `zero_division` parameter to control this behavior.\n",
      "  _warn_prf(average, modifier, msg_start, len(result))\n"
     ]
    },
    {
     "data": {
      "text/html": [
       "<div>\n",
       "<style scoped>\n",
       "    .dataframe tbody tr th:only-of-type {\n",
       "        vertical-align: middle;\n",
       "    }\n",
       "\n",
       "    .dataframe tbody tr th {\n",
       "        vertical-align: top;\n",
       "    }\n",
       "\n",
       "    .dataframe thead th {\n",
       "        text-align: right;\n",
       "    }\n",
       "</style>\n",
       "<table border=\"1\" class=\"dataframe\">\n",
       "  <thead>\n",
       "    <tr style=\"text-align: right;\">\n",
       "      <th></th>\n",
       "      <th>precision</th>\n",
       "      <th>recall</th>\n",
       "      <th>f1-score</th>\n",
       "      <th>support</th>\n",
       "    </tr>\n",
       "  </thead>\n",
       "  <tbody>\n",
       "    <tr>\n",
       "      <th>No Finding</th>\n",
       "      <td>0.145131</td>\n",
       "      <td>0.602108</td>\n",
       "      <td>0.233887</td>\n",
       "      <td>4270.0</td>\n",
       "    </tr>\n",
       "    <tr>\n",
       "      <th>Hernia</th>\n",
       "      <td>0.000000</td>\n",
       "      <td>0.000000</td>\n",
       "      <td>0.000000</td>\n",
       "      <td>14821.0</td>\n",
       "    </tr>\n",
       "    <tr>\n",
       "      <th>Emphysema</th>\n",
       "      <td>0.079470</td>\n",
       "      <td>0.037872</td>\n",
       "      <td>0.051298</td>\n",
       "      <td>2218.0</td>\n",
       "    </tr>\n",
       "    <tr>\n",
       "      <th>Nodule</th>\n",
       "      <td>0.034682</td>\n",
       "      <td>0.008845</td>\n",
       "      <td>0.014096</td>\n",
       "      <td>2035.0</td>\n",
       "    </tr>\n",
       "    <tr>\n",
       "      <th>Pneumonia</th>\n",
       "      <td>0.153846</td>\n",
       "      <td>0.002207</td>\n",
       "      <td>0.004351</td>\n",
       "      <td>4532.0</td>\n",
       "    </tr>\n",
       "    <tr>\n",
       "      <th>Consolidation</th>\n",
       "      <td>0.071882</td>\n",
       "      <td>0.016346</td>\n",
       "      <td>0.026635</td>\n",
       "      <td>2080.0</td>\n",
       "    </tr>\n",
       "    <tr>\n",
       "      <th>Cardiomegaly</th>\n",
       "      <td>0.182692</td>\n",
       "      <td>0.015115</td>\n",
       "      <td>0.027921</td>\n",
       "      <td>1257.0</td>\n",
       "    </tr>\n",
       "    <tr>\n",
       "      <th>Effusion</th>\n",
       "      <td>0.264036</td>\n",
       "      <td>0.198164</td>\n",
       "      <td>0.226406</td>\n",
       "      <td>4794.0</td>\n",
       "    </tr>\n",
       "    <tr>\n",
       "      <th>Mass</th>\n",
       "      <td>0.088983</td>\n",
       "      <td>0.022909</td>\n",
       "      <td>0.036437</td>\n",
       "      <td>2750.0</td>\n",
       "    </tr>\n",
       "    <tr>\n",
       "      <th>Pleural_Thickening</th>\n",
       "      <td>0.030864</td>\n",
       "      <td>0.003367</td>\n",
       "      <td>0.006072</td>\n",
       "      <td>1485.0</td>\n",
       "    </tr>\n",
       "    <tr>\n",
       "      <th>Atelectasis</th>\n",
       "      <td>0.145356</td>\n",
       "      <td>0.078321</td>\n",
       "      <td>0.101794</td>\n",
       "      <td>4456.0</td>\n",
       "    </tr>\n",
       "    <tr>\n",
       "      <th>Pneumothorax</th>\n",
       "      <td>0.222997</td>\n",
       "      <td>0.019650</td>\n",
       "      <td>0.036117</td>\n",
       "      <td>3257.0</td>\n",
       "    </tr>\n",
       "    <tr>\n",
       "      <th>Fibrosis</th>\n",
       "      <td>0.053435</td>\n",
       "      <td>0.014192</td>\n",
       "      <td>0.022427</td>\n",
       "      <td>1973.0</td>\n",
       "    </tr>\n",
       "    <tr>\n",
       "      <th>Infiltration</th>\n",
       "      <td>0.401214</td>\n",
       "      <td>0.231215</td>\n",
       "      <td>0.293366</td>\n",
       "      <td>8291.0</td>\n",
       "    </tr>\n",
       "    <tr>\n",
       "      <th>Edema</th>\n",
       "      <td>0.537359</td>\n",
       "      <td>0.114704</td>\n",
       "      <td>0.189053</td>\n",
       "      <td>4577.0</td>\n",
       "    </tr>\n",
       "    <tr>\n",
       "      <th>micro avg</th>\n",
       "      <td>0.198903</td>\n",
       "      <td>0.105691</td>\n",
       "      <td>0.138035</td>\n",
       "      <td>62796.0</td>\n",
       "    </tr>\n",
       "    <tr>\n",
       "      <th>macro avg</th>\n",
       "      <td>0.160796</td>\n",
       "      <td>0.091001</td>\n",
       "      <td>0.084657</td>\n",
       "      <td>62796.0</td>\n",
       "    </tr>\n",
       "    <tr>\n",
       "      <th>weighted avg</th>\n",
       "      <td>0.171423</td>\n",
       "      <td>0.105691</td>\n",
       "      <td>0.101265</td>\n",
       "      <td>62796.0</td>\n",
       "    </tr>\n",
       "    <tr>\n",
       "      <th>samples avg</th>\n",
       "      <td>0.188578</td>\n",
       "      <td>0.123045</td>\n",
       "      <td>0.139372</td>\n",
       "      <td>62796.0</td>\n",
       "    </tr>\n",
       "  </tbody>\n",
       "</table>\n",
       "</div>"
      ],
      "text/plain": [
       "                    precision    recall  f1-score  support\n",
       "No Finding           0.145131  0.602108  0.233887   4270.0\n",
       "Hernia               0.000000  0.000000  0.000000  14821.0\n",
       "Emphysema            0.079470  0.037872  0.051298   2218.0\n",
       "Nodule               0.034682  0.008845  0.014096   2035.0\n",
       "Pneumonia            0.153846  0.002207  0.004351   4532.0\n",
       "Consolidation        0.071882  0.016346  0.026635   2080.0\n",
       "Cardiomegaly         0.182692  0.015115  0.027921   1257.0\n",
       "Effusion             0.264036  0.198164  0.226406   4794.0\n",
       "Mass                 0.088983  0.022909  0.036437   2750.0\n",
       "Pleural_Thickening   0.030864  0.003367  0.006072   1485.0\n",
       "Atelectasis          0.145356  0.078321  0.101794   4456.0\n",
       "Pneumothorax         0.222997  0.019650  0.036117   3257.0\n",
       "Fibrosis             0.053435  0.014192  0.022427   1973.0\n",
       "Infiltration         0.401214  0.231215  0.293366   8291.0\n",
       "Edema                0.537359  0.114704  0.189053   4577.0\n",
       "micro avg            0.198903  0.105691  0.138035  62796.0\n",
       "macro avg            0.160796  0.091001  0.084657  62796.0\n",
       "weighted avg         0.171423  0.105691  0.101265  62796.0\n",
       "samples avg          0.188578  0.123045  0.139372  62796.0"
      ]
     },
     "execution_count": 28,
     "metadata": {},
     "output_type": "execute_result"
    }
   ],
   "source": [
    "generate_report(model, test_ds, y_test, MODEL_NAME, ALL_LABELS, \"test\")"
   ]
  }
 ],
 "metadata": {
  "kernelspec": {
   "display_name": "Python 3",
   "language": "python",
   "name": "python3"
  },
  "language_info": {
   "codemirror_mode": {
    "name": "ipython",
    "version": 3
   },
   "file_extension": ".py",
   "mimetype": "text/x-python",
   "name": "python",
   "nbconvert_exporter": "python",
   "pygments_lexer": "ipython3",
   "version": "3.9.17"
  },
  "papermill": {
   "duration": 1063.761073,
   "end_time": "2021-01-28T17:20:30.777536",
   "environment_variables": {},
   "exception": null,
   "input_path": "__notebook__.ipynb",
   "output_path": "__notebook__.ipynb",
   "parameters": {},
   "start_time": "2021-01-28T17:02:47.016463",
   "version": "2.1.0"
  }
 },
 "nbformat": 4,
 "nbformat_minor": 4
}
